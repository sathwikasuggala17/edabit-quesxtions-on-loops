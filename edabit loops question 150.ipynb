{
 "cells": [
  {
   "cell_type": "markdown",
   "id": "75d5e3cd",
   "metadata": {},
   "source": [
    "### task on 3rd-11-23"
   ]
  },
  {
   "cell_type": "markdown",
   "id": "e39705ea",
   "metadata": {},
   "source": [
    "#### 1)Create a function that takes an array of values resistance that are connected in series, and calculates the total resistance of the circuit in ohms. The ohm is the standard unit of electrical resistance in the International System of Units ( SI )."
   ]
  },
  {
   "cell_type": "code",
   "execution_count": 3,
   "id": "4dc0e2a3",
   "metadata": {},
   "outputs": [
    {
     "name": "stdout",
     "output_type": "stream",
     "text": [
      "60 ohms\n"
     ]
    }
   ],
   "source": [
    "resistance = [10, 20, 30]\n",
    "total_of_resistance = 0\n",
    "x = 0 # adding total using indexing method\n",
    "while  x < len(resistance):\n",
    "    total_of_resistance = total_of_resistance + resistance[x]\n",
    "    x = x+1\n",
    "print(f'{total_of_resistance} ohms')"
   ]
  },
  {
   "cell_type": "code",
   "execution_count": 4,
   "id": "8ad60ca5",
   "metadata": {},
   "outputs": [
    {
     "name": "stdout",
     "output_type": "stream",
     "text": [
      "60 ohms\n"
     ]
    }
   ],
   "source": [
    "resistance = [10,20,30]\n",
    "total_of_resistance =0\n",
    "for v in resistance:\n",
    "    total_of_resistance = total_of_resistance + v\n",
    "print(f'{total_of_resistance} ohms')"
   ]
  },
  {
   "cell_type": "markdown",
   "id": "67074f1c",
   "metadata": {},
   "source": [
    "#### 2) Create a function which concatenates the number 7 to the end of every chord in a list. Ignore all chords which already end with 7."
   ]
  },
  {
   "cell_type": "code",
   "execution_count": 5,
   "id": "dd9d56ba",
   "metadata": {},
   "outputs": [
    {
     "name": "stdout",
     "output_type": "stream",
     "text": [
      "['a7', 'b7', 'c7', 'd7', 'e7', 'f7']\n"
     ]
    }
   ],
   "source": [
    "chords = ['a','b','c','d','e','f']\n",
    "y = 0\n",
    "while y <len(chords):\n",
    "    if not chords[y].endswith('7'):\n",
    "        chords[y] = chords[y] +'7'\n",
    "        y = y+1\n",
    "print(chords)"
   ]
  },
  {
   "cell_type": "code",
   "execution_count": 6,
   "id": "924ce018",
   "metadata": {},
   "outputs": [
    {
     "name": "stdout",
     "output_type": "stream",
     "text": [
      "['a7', 'b7', 'c7', 'd7', 'e7', 'f7']\n"
     ]
    }
   ],
   "source": [
    "chords = ['a','b','c','d','e','f']\n",
    "for y in range(len(chords)):\n",
    "    if not chords[y].endswith('7'):\n",
    "        chords[y] = chords[y] +'7'\n",
    "print(chords)"
   ]
  },
  {
   "cell_type": "markdown",
   "id": "21682252",
   "metadata": {},
   "source": [
    "#### 4) Create a function that takes a string and returns the number (count) of vowels contained within it."
   ]
  },
  {
   "cell_type": "code",
   "execution_count": 7,
   "id": "821ec875",
   "metadata": {},
   "outputs": [
    {
     "name": "stdout",
     "output_type": "stream",
     "text": [
      "vowels count of the string is 6\n"
     ]
    }
   ],
   "source": [
    "string = 'sathwika suggala'\n",
    "vowels_count = 0\n",
    "x = 0\n",
    "vowels = 'aeiou' \n",
    "while x <len(string):\n",
    "    if string[x] in vowels:\n",
    "        vowels_count = vowels_count + 1 \n",
    "    x = x+1\n",
    "print('vowels count of the string is', vowels_count)"
   ]
  },
  {
   "cell_type": "code",
   "execution_count": 8,
   "id": "4c9ea796",
   "metadata": {},
   "outputs": [
    {
     "name": "stdout",
     "output_type": "stream",
     "text": [
      "vowels count of the string is 6\n"
     ]
    }
   ],
   "source": [
    "string = 'SATHWIKA SUGGALA'\n",
    "vowels_count = 0\n",
    "vowels = 'AEIOU'\n",
    "for values in string:\n",
    "    if values in vowels:\n",
    "        vowels_count = vowels_count + 1\n",
    "print('vowels count of the string is', vowels_count)"
   ]
  },
  {
   "cell_type": "markdown",
   "id": "a9c505e0",
   "metadata": {},
   "source": [
    "#### 5) Create a function that takes a list and finds the integer which appears an odd number of times."
   ]
  },
  {
   "cell_type": "code",
   "execution_count": 9,
   "id": "9dc2ebb8",
   "metadata": {},
   "outputs": [
    {
     "name": "stdout",
     "output_type": "stream",
     "text": [
      "integer appears odd number of times is:5\n"
     ]
    }
   ],
   "source": [
    "my_list = [4,5,6,6,5,4,3,2,1,1,2,3,7,4,5,4,6,4,7] # given elements odd no.of times\n",
    "while len(my_list) > 0:\n",
    "    elements_of_the_list = my_list[0] # taken indexing value\n",
    "    count_of_list = my_list.count(elements_of_the_list) # using count method + indexing = count of list\n",
    "    print(f'integer appears odd number of times is:{count_of_list}') # using format string\n",
    "    break"
   ]
  },
  {
   "cell_type": "code",
   "execution_count": 10,
   "id": "501bcf87",
   "metadata": {},
   "outputs": [
    {
     "name": "stdout",
     "output_type": "stream",
     "text": [
      "integers appears odd number of times is: 4\n"
     ]
    }
   ],
   "source": [
    "my_list = [4,5,6,6,5,4,3,2,1,1,2,3,7,4,5,4,6,4,7] # given elements odd no.of times\n",
    "count = {}\n",
    "for a in my_list:\n",
    "    if a in count:\n",
    "        count[a] = count[a] + 1\n",
    "    else:\n",
    "        count[a] = 1\n",
    "outcome = None\n",
    "for x, y in count.items():\n",
    "    if y % 2 != 0:\n",
    "        outcome = x\n",
    "        break\n",
    "print(f'integers appears odd number of times is: {outcome}')"
   ]
  },
  {
   "cell_type": "markdown",
   "id": "2bb6d425",
   "metadata": {},
   "source": [
    "#### 6) Create a function that computes the hamming distance between two strings."
   ]
  },
  {
   "cell_type": "code",
   "execution_count": 11,
   "id": "1bf11e13",
   "metadata": {},
   "outputs": [
    {
     "name": "stdout",
     "output_type": "stream",
     "text": [
      "hamming string distance between 'hyderabad' and 'bangalore' is 9\n"
     ]
    }
   ],
   "source": [
    "string1 = 'hyderabad' # values in both strings should be equal else raises an error\n",
    "string2 = 'bangalore'\n",
    "hamming_distance = 0 \n",
    "hd = 0  # indexing value\n",
    "while hd < len(string1): \n",
    "    if string1[hd] != string2[hd]: \n",
    "        hamming_distance = hamming_distance + 1\n",
    "    hd = hd + 1\n",
    "print(f\"hamming string distance between '{string1}' and '{string2}' is {hamming_distance}\")"
   ]
  },
  {
   "cell_type": "code",
   "execution_count": 12,
   "id": "7a88c247",
   "metadata": {},
   "outputs": [
    {
     "name": "stdout",
     "output_type": "stream",
     "text": [
      "hamming string distance between 'hyderabad' and 'bangalore' is 9\n"
     ]
    }
   ],
   "source": [
    "string1 = 'hyderabad' # values in both strings should be equal else raises an error\n",
    "string2 = 'bangalore'\n",
    "hamming_distance = 0 \n",
    "for hd in range(len(string1)):\n",
    "    if string1[hd] != string2[hd]: \n",
    "        hamming_distance = hamming_distance + 1\n",
    "print(f\"hamming string distance between '{string1}' and '{string2}' is {hamming_distance}\")"
   ]
  },
  {
   "cell_type": "markdown",
   "id": "bb4b71d1",
   "metadata": {},
   "source": [
    "#### 7) Create a function that takes a list of non-negative integers and strings and return a new list without the strings."
   ]
  },
  {
   "cell_type": "code",
   "execution_count": 13,
   "id": "5613c8f7",
   "metadata": {},
   "outputs": [
    {
     "name": "stdout",
     "output_type": "stream",
     "text": [
      "[1, 2]\n"
     ]
    }
   ],
   "source": [
    "new_list = [1, 2, 'sathwika', 'vaishno']\n",
    "array = []\n",
    "s = 0\n",
    "while s < len(new_list):\n",
    "    if isinstance(new_list[s], int):\n",
    "        array.append(new_list[s])\n",
    "    s += 1\n",
    "print(array)"
   ]
  },
  {
   "cell_type": "code",
   "execution_count": 14,
   "id": "0f074f82",
   "metadata": {},
   "outputs": [
    {
     "name": "stdout",
     "output_type": "stream",
     "text": [
      "[1, 2]\n"
     ]
    }
   ],
   "source": [
    "new_list = [1,2,'sathwika' 'vaishno']\n",
    "array = []\n",
    "for s in new_list:\n",
    "    if isinstance(s, int):\n",
    "        array.append(s)\n",
    "print(array)"
   ]
  },
  {
   "cell_type": "markdown",
   "id": "833452dc",
   "metadata": {},
   "source": [
    "#### 8) Create a function that takes a list of strings and integers, and filters out the list so that it returns a list of integers only."
   ]
  },
  {
   "cell_type": "code",
   "execution_count": 15,
   "id": "39b07f47",
   "metadata": {},
   "outputs": [
    {
     "name": "stdout",
     "output_type": "stream",
     "text": [
      "[1, 2, 3, 4, 5]\n"
     ]
    }
   ],
   "source": [
    "trip = [1,'ladhak',2,'vrindavan',3,'kerala',4,'new york',5,'paris']\n",
    "integers = []\n",
    "j = 0\n",
    "while j < len(trip):\n",
    "    if isinstance(trip[j], int):\n",
    "        integers.append(trip[j])\n",
    "    j+= 1\n",
    "print(integers)"
   ]
  },
  {
   "cell_type": "code",
   "execution_count": 16,
   "id": "30579315",
   "metadata": {},
   "outputs": [
    {
     "name": "stdout",
     "output_type": "stream",
     "text": [
      "[1, 2, 3, 4, 5]\n"
     ]
    }
   ],
   "source": [
    "trip = [1,'ladhak',2,'vrindavan',3,'kerala',4,'new york',5,'paris']\n",
    "integers = []\n",
    "for j in trip:\n",
    "    if isinstance(j, int):\n",
    "        integers.append(j)\n",
    "print(integers)"
   ]
  },
  {
   "cell_type": "markdown",
   "id": "641770af",
   "metadata": {},
   "source": [
    "#### 10) In BlackJack, cards are counted with -1, 0, 1 values:\n",
    "* 2, 3, 4, 5, 6 are counted as +1\n",
    "* 7, 8, 9 are counted as 0\n",
    "* 10, J, Q, K, A are counted as -1\n",
    "* Create a function that counts the number and returns it from the list of cards provided."
   ]
  },
  {
   "cell_type": "code",
   "execution_count": 27,
   "id": "4220827f",
   "metadata": {},
   "outputs": [
    {
     "ename": "TypeError",
     "evalue": "unhashable type: 'slice'",
     "output_type": "error",
     "traceback": [
      "\u001b[1;31m---------------------------------------------------------------------------\u001b[0m",
      "\u001b[1;31mTypeError\u001b[0m                                 Traceback (most recent call last)",
      "Cell \u001b[1;32mIn[27], line 4\u001b[0m\n\u001b[0;32m      2\u001b[0m count \u001b[38;5;241m=\u001b[39m []\n\u001b[0;32m      3\u001b[0m k \u001b[38;5;241m=\u001b[39m \u001b[38;5;241m0\u001b[39m\n\u001b[1;32m----> 4\u001b[0m \u001b[38;5;28;01mwhile\u001b[39;00m k \u001b[38;5;241m<\u001b[39m cards[\u001b[38;5;241m2\u001b[39m:\u001b[38;5;241m1\u001b[39m, \u001b[38;5;241m3\u001b[39m:\u001b[38;5;241m1\u001b[39m, \u001b[38;5;241m4\u001b[39m:\u001b[38;5;241m1\u001b[39m, \u001b[38;5;241m5\u001b[39m:\u001b[38;5;241m1\u001b[39m, \u001b[38;5;241m6\u001b[39m:\u001b[38;5;241m1\u001b[39m]\u001b[38;5;241m.\u001b[39msplit(\u001b[38;5;124m'\u001b[39m\u001b[38;5;124m,\u001b[39m\u001b[38;5;124m'\u001b[39m):\n\u001b[0;32m      5\u001b[0m     cards \u001b[38;5;241m=\u001b[39m (count\u001b[38;5;241m.\u001b[39mcards)\n\u001b[0;32m      6\u001b[0m \u001b[38;5;28mprint\u001b[39m(\u001b[38;5;124mf\u001b[39m\u001b[38;5;124m'\u001b[39m\u001b[38;5;124mcount: \u001b[39m\u001b[38;5;132;01m{\u001b[39;00mcards\u001b[38;5;132;01m}\u001b[39;00m\u001b[38;5;124m'\u001b[39m)\n",
      "\u001b[1;31mTypeError\u001b[0m: unhashable type: 'slice'"
     ]
    }
   ],
   "source": [
    "cards = {'A':-1, 2:1, 3:1, 4:1, 5:1, 6:1, 7:0, 8:0, 9:0, 10:-1, 'J':-1, 'Q':-1, 'K':-1,}\n",
    "count = []\n",
    "k = 0\n",
    "while k < cards[2:1, 3:1, 4:1, 5:1, 6:1].split(','):\n",
    "    cards = (count.cards)\n",
    "print(f'count: {cards}')\n",
    "next_round = input('count number and returns it from list of cards (yes/no): ')\n",
    "if next_round.lower( ) != 'yes':\n",
    "    break"
   ]
  },
  {
   "cell_type": "markdown",
   "id": "0e4e3b6a",
   "metadata": {},
   "source": [
    "####  11) Write a function that takes a list of elements and returns only the integers."
   ]
  },
  {
   "cell_type": "code",
   "execution_count": 17,
   "id": "ded1cb49",
   "metadata": {},
   "outputs": [
    {
     "name": "stdout",
     "output_type": "stream",
     "text": [
      "[1, 2, 3, 4, 5, 6]\n"
     ]
    }
   ],
   "source": [
    "elements_list = [1,'london',2,'paris',3,'newyork',4,'uk',5,'california',6,'mexico',]\n",
    "integers = []\n",
    "j = 0\n",
    "while j <len(elements_list):\n",
    "    if isinstance(elements_list[j], int):\n",
    "        integers.append(elements_list[j])\n",
    "    j+= 1\n",
    "print(integers)"
   ]
  },
  {
   "cell_type": "code",
   "execution_count": 18,
   "id": "5da9c0f7",
   "metadata": {},
   "outputs": [
    {
     "name": "stdout",
     "output_type": "stream",
     "text": [
      "[1, 2, 3, 4, 5, 6]\n"
     ]
    }
   ],
   "source": [
    "elements_list = [1,'london',2,'paris',3,'newyork',4,'uk',5,'california',6,'mexico',]\n",
    "integers = []\n",
    "for j in elements_list:\n",
    "       if j in elements_list:\n",
    "        if isinstance(j, int):\n",
    "            integers.append(j)\n",
    "print(integers)"
   ]
  },
  {
   "cell_type": "markdown",
   "id": "1d2d1a5c",
   "metadata": {},
   "source": [
    "#### 12) An isogram is a word that has no duplicate letters. Create a function that takes a string and returns either True or False depending on whether or not it's an \"isogram\"."
   ]
  },
  {
   "cell_type": "code",
   "execution_count": 19,
   "id": "46717b4a",
   "metadata": {},
   "outputs": [
    {
     "name": "stdout",
     "output_type": "stream",
     "text": [
      "[1, 2, 3]\n"
     ]
    }
   ],
   "source": [
    "isogram = [1,2,3,3,2,1,1,2,3,3,2,1]\n",
    "isogram.sort()\n",
    "x = 0\n",
    "while x <len(isogram) -1:\n",
    "    if isogram[x] == isogram[x + 1]:\n",
    "        del isogram[x]\n",
    "    else:\n",
    "        x += 1\n",
    "print(isogram)"
   ]
  },
  {
   "cell_type": "code",
   "execution_count": 2,
   "id": "646655b1",
   "metadata": {},
   "outputs": [
    {
     "name": "stdout",
     "output_type": "stream",
     "text": [
      "[1, 2, 3]\n"
     ]
    }
   ],
   "source": [
    "isogram = [1,2,3,3,2,1,1,2,3,3,2,1]\n",
    "for x in range(len(isogram)):\n",
    "    for y in range(0, len(isogram)-x-1):\n",
    "        if isogram[y] > isogram[y+1]:\n",
    "            isogram[y], isogram[y+1] = isogram[x + 1], isogram[x]\n",
    "unique_list = []\n",
    "for num in isogram:\n",
    "    if num not in unique_list:\n",
    "        unique_list.append(num)\n",
    "print(unique_list)"
   ]
  },
  {
   "cell_type": "markdown",
   "id": "f83aae9f",
   "metadata": {},
   "source": [
    "#### 13) Given a list of numbers, write a function that returns a list that...\n",
    "* Has all duplicate elements removed.\n",
    "* Is sorted from least to greatest value."
   ]
  },
  {
   "cell_type": "code",
   "execution_count": 1,
   "id": "c6bf6e9c",
   "metadata": {},
   "outputs": [
    {
     "name": "stdout",
     "output_type": "stream",
     "text": [
      "[1, 2, 3, 4, 5, 6]\n"
     ]
    }
   ],
   "source": [
    "numbers = [1,2,3,3,4,4,3,2,1,5,6,6,5]\n",
    "new_list = []\n",
    "k = 0\n",
    "while k < len(numbers):\n",
    "    if numbers[k] not in new_list:\n",
    "        new_list.append(numbers[k])\n",
    "    k+=1\n",
    "l = len(new_list)\n",
    "while l > 1:\n",
    "    sorted_l = 0\n",
    "    for k in range(1, l):\n",
    "        if new_list[k - 1] > new_list [k]:\n",
    "            new_list[k - 1], new_list[k] = new_list[k], new_list[k - l]\n",
    "            sorted_l = k\n",
    "    l = sorted_l\n",
    "print(new_list)"
   ]
  },
  {
   "cell_type": "code",
   "execution_count": 2,
   "id": "b3041ee8",
   "metadata": {},
   "outputs": [
    {
     "name": "stdout",
     "output_type": "stream",
     "text": [
      "[1, 2, 3, 4, 5, 6]\n"
     ]
    }
   ],
   "source": [
    "numbers = [1,2,3,3,4,4,3,2,1,5,6,6,5]\n",
    "new_list = list(set(numbers))\n",
    "for k in range(len(new_list)):\n",
    "    for l in range(0, len(new_list) - k - 1):\n",
    "        if new_list[l] > new_list[l + 1]:\n",
    "            new_list[l], new_list[l + 1] = new_list[l + 1], new_list[l]\n",
    "print(new_list)"
   ]
  },
  {
   "cell_type": "markdown",
   "id": "888a3a9e",
   "metadata": {},
   "source": [
    "#### 16) In this exercise you will have to:\n",
    "* Take a list of names.\n",
    "* Add \"Hello\" to every name.\n",
    "* Make one big string with all greetings.\n",
    "* The solution should be one string with a comma in between every \"Hello (Name)\"."
   ]
  },
  {
   "cell_type": "code",
   "execution_count": 3,
   "id": "03148d0b",
   "metadata": {},
   "outputs": [
    {
     "name": "stdout",
     "output_type": "stream",
     "text": [
      "hello sathwi, hello vishno, hello shirisha\n"
     ]
    }
   ],
   "source": [
    "names = ['sathwi', 'vishno','shirisha']\n",
    "greetings = \"\"\n",
    "x = 0\n",
    "while x < len(names):\n",
    "    greetings += \"hello \" + names[x]\n",
    "    if x < len(names) -1:\n",
    "        greetings += \", \"\n",
    "    x+=1\n",
    "print(greetings)"
   ]
  }
 ],
 "metadata": {
  "kernelspec": {
   "display_name": "Python 3 (ipykernel)",
   "language": "python",
   "name": "python3"
  },
  "language_info": {
   "codemirror_mode": {
    "name": "ipython",
    "version": 3
   },
   "file_extension": ".py",
   "mimetype": "text/x-python",
   "name": "python",
   "nbconvert_exporter": "python",
   "pygments_lexer": "ipython3",
   "version": "3.11.5"
  }
 },
 "nbformat": 4,
 "nbformat_minor": 5
}
